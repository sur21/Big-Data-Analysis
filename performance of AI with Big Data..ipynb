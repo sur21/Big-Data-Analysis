{
 "cells": [
  {
   "cell_type": "code",
   "execution_count": null,
   "metadata": {},
   "outputs": [
    {
     "name": "stdout",
     "output_type": "stream",
     "text": [
      "   Rank   Player  Gold  Silver  Bronze  S Tier  Earnings\n",
      "0     1    zombs    13       5       1       1  $113,550\n",
      "1     2  ShahZaM    13       4       1       1  $113,450\n",
      "2     3     dapr    14       3       1       1  $112,870\n",
      "3     4     SicK    12       3       1       1  $112,650\n",
      "4     5     cNed    12       4       2       1  $107,735\n",
      "Dataset Size: (500, 7)\n"
     ]
    }
   ],
   "source": [
    "import pandas as pd\n",
    "df = pd.read_csv(\"Players.csv\")\n",
    "print(df.head())\n",
    "print(f\"Dataset Size: {df.shape}\")\n"
   ]
  },
  {
   "cell_type": "code",
   "execution_count": null,
   "metadata": {},
   "outputs": [
    {
     "name": "stderr",
     "output_type": "stream",
     "text": [
      "c:\\Users\\surya\\AppData\\Local\\Programs\\Python\\Python313\\Lib\\site-packages\\tqdm\\auto.py:21: TqdmWarning: IProgress not found. Please update jupyter and ipywidgets. See https://ipywidgets.readthedocs.io/en/stable/user_install.html\n",
      "  from .autonotebook import tqdm as notebook_tqdm\n",
      "c:\\Users\\surya\\AppData\\Local\\Programs\\Python\\Python313\\Lib\\site-packages\\huggingface_hub\\file_download.py:142: UserWarning: `huggingface_hub` cache-system uses symlinks by default to efficiently store duplicated files but your machine does not support them in C:\\Users\\surya\\.cache\\huggingface\\hub\\models--distilbert-base-uncased-finetuned-sst-2-english. Caching files will still work but in a degraded version that might require more space on your disk. This warning can be disabled by setting the `HF_HUB_DISABLE_SYMLINKS_WARNING` environment variable. For more details, see https://huggingface.co/docs/huggingface_hub/how-to-cache#limitations.\n",
      "To support symlinks on Windows, you either need to activate Developer Mode or to run Python as an administrator. In order to activate developer mode, see this article: https://docs.microsoft.com/en-us/windows/apps/get-started/enable-your-device-for-development\n",
      "  warnings.warn(message)\n",
      "Device set to use cpu\n"
     ]
    },
    {
     "name": "stdout",
     "output_type": "stream",
     "text": [
      "[{'label': 'POSITIVE', 'score': 0.9995562434196472}]\n"
     ]
    }
   ],
   "source": [
    "from transformers import pipeline\n",
    "nlp_pipeline = pipeline(\"text-classification\", model=\"distilbert-base-uncased-finetuned-sst-2-english\")\n",
    "def analyze_text(text):\n",
    "    result = nlp_pipeline(text)\n",
    "    return result\n",
    "sample_text = \"IBM Watson is a powerful AI platform.\"\n",
    "print(analyze_text(sample_text))\n"
   ]
  },
  {
   "cell_type": "code",
   "execution_count": null,
   "metadata": {},
   "outputs": [
    {
     "name": "stdout",
     "output_type": "stream",
     "text": [
      "Processing Time: 0.055509090423583984 seconds\n",
      "Result: [{'label': 'POSITIVE', 'score': 0.9998620748519897}]\n"
     ]
    }
   ],
   "source": [
    "import time\n",
    "start_time = time.time()\n",
    "nlp_result = analyze_text(\"This AI experiment is amazing!\")\n",
    "end_time = time.time()\n",
    "print(f\"Processing Time: {end_time - start_time} seconds\")\n",
    "print(\"Result:\", nlp_result)\n"
   ]
  },
  {
   "cell_type": "code",
   "execution_count": null,
   "metadata": {},
   "outputs": [
    {
     "name": "stderr",
     "output_type": "stream",
     "text": [
      "c:\\Users\\surya\\AppData\\Local\\Programs\\Python\\Python313\\Lib\\site-packages\\huggingface_hub\\file_download.py:142: UserWarning: `huggingface_hub` cache-system uses symlinks by default to efficiently store duplicated files but your machine does not support them in C:\\Users\\surya\\.cache\\huggingface\\hub\\models--google--vit-base-patch16-224. Caching files will still work but in a degraded version that might require more space on your disk. This warning can be disabled by setting the `HF_HUB_DISABLE_SYMLINKS_WARNING` environment variable. For more details, see https://huggingface.co/docs/huggingface_hub/how-to-cache#limitations.\n",
      "To support symlinks on Windows, you either need to activate Developer Mode or to run Python as an administrator. In order to activate developer mode, see this article: https://docs.microsoft.com/en-us/windows/apps/get-started/enable-your-device-for-development\n",
      "  warnings.warn(message)\n",
      "Device set to use cpu\n"
     ]
    },
    {
     "name": "stdout",
     "output_type": "stream",
     "text": [
      "[{'label': 'Labrador retriever', 'score': 0.937244713306427}, {'label': 'golden retriever', 'score': 0.05149995908141136}, {'label': 'kuvasz', 'score': 0.0008611350203864276}, {'label': 'tennis ball', 'score': 0.0008082875283434987}, {'label': 'Chesapeake Bay retriever', 'score': 0.0006365952431224287}]\n"
     ]
    }
   ],
   "source": [
    "from transformers import pipeline\n",
    "from PIL import Image\n",
    "image_classifier = pipeline(\"image-classification\", model=\"google/vit-base-patch16-224\")\n",
    "image_path = \"Dogs_love.jpg\"\n",
    "image = Image.open(image_path)\n",
    "result = image_classifier(image)\n",
    "print(result)\n"
   ]
  },
  {
   "cell_type": "code",
   "execution_count": null,
   "metadata": {},
   "outputs": [
    {
     "name": "stdout",
     "output_type": "stream",
     "text": [
      "Text: IBM Watson is a powerful AI platform.\n",
      "Prediction: [{'label': 'POSITIVE', 'score': 0.9995562434196472}]\n",
      "Processing Time: 0.03735923767089844 sec\n",
      "\n",
      "Text: This experiment is challenging but fun!\n",
      "Prediction: [{'label': 'POSITIVE', 'score': 0.9997528195381165}]\n",
      "Processing Time: 0.026723861694335938 sec\n",
      "\n",
      "Text: AI is transforming the world.\n",
      "Prediction: [{'label': 'POSITIVE', 'score': 0.9992585778236389}]\n",
      "Processing Time: 0.026556968688964844 sec\n",
      "\n",
      "Average NLP Processing Time: 0.030213356018066406 sec\n"
     ]
    }
   ],
   "source": [
    "import time\n",
    "texts = [\n",
    "    \"IBM Watson is a powerful AI platform.\",\n",
    "    \"This experiment is challenging but fun!\",\n",
    "    \"AI is transforming the world.\"\n",
    "]\n",
    "times = []\n",
    "results = []\n",
    "\n",
    "for text in texts:\n",
    "    start_time = time.time()\n",
    "    output = analyze_text(text)\n",
    "    end_time = time.time()\n",
    "    times.append(end_time - start_time)\n",
    "    results.append(output)\n",
    "for i, text in enumerate(texts):\n",
    "    print(f\"Text: {text}\")\n",
    "    print(f\"Prediction: {results[i]}\")\n",
    "    print(f\"Processing Time: {times[i]} sec\\n\")\n",
    "print(f\"Average NLP Processing Time: {sum(times)/len(times)} sec\")\n",
    "\n"
   ]
  },
  {
   "cell_type": "code",
   "execution_count": null,
   "metadata": {},
   "outputs": [
    {
     "name": "stdout",
     "output_type": "stream",
     "text": [
      "Image Classification Result: [{'label': 'Labrador retriever', 'score': 0.937244713306427}, {'label': 'golden retriever', 'score': 0.05149995908141136}, {'label': 'kuvasz', 'score': 0.0008611350203864276}, {'label': 'tennis ball', 'score': 0.0008082875283434987}, {'label': 'Chesapeake Bay retriever', 'score': 0.0006365952431224287}]\n",
      "Image Processing Time: 0.26409101486206055 sec\n"
     ]
    }
   ],
   "source": [
    "import time\n",
    "start_time = time.time()\n",
    "image_result = image_classifier(Image.open(\"Dogs_love.jpg\"))\n",
    "end_time = time.time()\n",
    "print(\"Image Classification Result:\", image_result)\n",
    "print(f\"Image Processing Time: {end_time - start_time} sec\")\n"
   ]
  },
  {
   "cell_type": "code",
   "execution_count": null,
   "metadata": {},
   "outputs": [
    {
     "name": "stderr",
     "output_type": "stream",
     "text": [
      "C:\\Users\\surya\\AppData\\Local\\Temp\\ipykernel_17900\\3150345598.py:10: FutureWarning: \n",
      "\n",
      "Passing `palette` without assigning `hue` is deprecated and will be removed in v0.14.0. Assign the `x` variable to `hue` and set `legend=False` for the same effect.\n",
      "\n",
      "  sns.barplot(x=labels, y=times, palette=\"Blues\")\n"
     ]
    },
    {
     "data": {
      "image/png": "[encoded data removed]",
      "text/plain": [
       "<Figure size 800x500 with 1 Axes>"
      ]
     },
     "metadata": {},
     "output_type": "display_data"
    }
   ],
   "source": [
    "import matplotlib.pyplot as plt\n",
    "import seaborn as sns\n",
    "labels = [\"Text-1\", \"Text-2\", \"Text-3\"]\n",
    "times = [0.35, 0.40, 0.30]  # Replace with actual times from Step 5\n",
    "plt.figure(figsize=(8,5))\n",
    "sns.barplot(x=labels, y=times, palette=\"Blues\")\n",
    "plt.xlabel(\"Text Samples\")\n",
    "plt.ylabel(\"Processing Time (seconds)\")\n",
    "plt.title(\"NLP Model Processing Time\")\n",
    "plt.show()\n"
   ]
  }
 ],
 "metadata": {
  "kernelspec": {
   "display_name": "Python 3",
   "language": "python",
   "name": "python3"
  },
  "language_info": {
   "codemirror_mode": {
    "name": "ipython",
    "version": 3
   },
   "file_extension": ".py",
   "mimetype": "text/x-python",
   "name": "python",
   "nbconvert_exporter": "python",
   "pygments_lexer": "ipython3",
   "version": "3.13.2"
  }
 },
 "nbformat": 4,
 "nbformat_minor": 2
}
