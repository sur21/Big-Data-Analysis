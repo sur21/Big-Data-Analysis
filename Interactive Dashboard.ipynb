{
 "cells": [
  {
   "cell_type": "code",
   "execution_count": null,
   "metadata": {},
   "outputs": [
    {
     "data": {
      "text/html": [
       "\n",
       "        <iframe\n",
       "            width=\"100%\"\n",
       "            height=\"650\"\n",
       "            src=\"http://127.0.0.1:8050/\"\n",
       "            frameborder=\"0\"\n",
       "            allowfullscreen\n",
       "            \n",
       "        ></iframe>\n",
       "        "
      ],
      "text/plain": [
       "<IPython.lib.display.IFrame at 0x1ed1f4e51d0>"
      ]
     },
     "metadata": {},
     "output_type": "display_data"
    }
   ],
   "source": [
    "import dash\n",
    "from dash import dcc, html\n",
    "from dash.dependencies import Input, Output\n",
    "import pandas as pd\n",
    "import plotly.express as px\n",
    "\n",
    "df = pd.read_csv(\"Players.csv\")  \n",
    "\n",
    "df.dropna(inplace=True)  \n",
    "\n",
    "numeric_columns = df.select_dtypes(include=['number']).columns\n",
    "\n",
    "app = dash.Dash(__name__)\n",
    "\n",
    "app.layout = html.Div([\n",
    "    html.H1(\"Interactive Data Dashboard\"),\n",
    "    \n",
    "    dcc.Dropdown(\n",
    "        id='x-axis',\n",
    "        options=[{'label': col, 'value': col} for col in numeric_columns],\n",
    "        value=numeric_columns[0],\n",
    "        clearable=False\n",
    "    ),\n",
    "    \n",
    "    dcc.Dropdown(\n",
    "        id='y-axis',\n",
    "        options=[{'label': col, 'value': col} for col in numeric_columns],\n",
    "        value=numeric_columns[1],\n",
    "        clearable=False\n",
    "    ),\n",
    "    \n",
    "    dcc.RadioItems(\n",
    "        id='chart-type',\n",
    "        options=[\n",
    "            {'label': 'Scatter Plot', 'value': 'scatter'},\n",
    "            {'label': 'Line Chart', 'value': 'line'},\n",
    "            {'label': 'Bar Chart', 'value': 'bar'}\n",
    "        ],\n",
    "        value='scatter',\n",
    "        inline=True\n",
    "    ),\n",
    "    \n",
    "    dcc.Graph(id='dynamic-graph'),\n",
    "])\n",
    "\n",
    "@app.callback(\n",
    "    Output('dynamic-graph', 'figure'),\n",
    "    [Input('x-axis', 'value'),\n",
    "     Input('y-axis', 'value'),\n",
    "     Input('chart-type', 'value')]\n",
    ")\n",
    "def update_graph(x_col, y_col, chart_type):\n",
    "    if chart_type == 'scatter':\n",
    "        fig = px.scatter(df, x=x_col, y=y_col, title=f'Scatter plot of {x_col} vs {y_col}')\n",
    "    elif chart_type == 'line':\n",
    "        fig = px.line(df, x=x_col, y=y_col, title=f'Line chart of {x_col} vs {y_col}')\n",
    "    elif chart_type == 'bar':\n",
    "        fig = px.bar(df, x=x_col, y=y_col, title=f'Bar chart of {x_col} vs {y_col}')\n",
    "    return fig\n",
    "\n",
    "if __name__ == '__main__':\n",
    "    app.run_server(debug=True)\n"
   ]
  }
 ],
 "metadata": {
  "kernelspec": {
   "display_name": "Python 3",
   "language": "python",
   "name": "python3"
  },
  "language_info": {
   "codemirror_mode": {
    "name": "ipython",
    "version": 3
   },
   "file_extension": ".py",
   "mimetype": "text/x-python",
   "name": "python",
   "nbconvert_exporter": "python",
   "pygments_lexer": "ipython3",
   "version": "3.11.9"
  }
 },
 "nbformat": 4,
 "nbformat_minor": 2
}
